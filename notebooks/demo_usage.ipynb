{
 "cells": [
  {
   "cell_type": "markdown",
   "id": "2735a827-f038-4315-a882-886463c35763",
   "metadata": {},
   "source": [
    "# FLASKED DEMO\n",
    "\n",
    "This notebook is built towards showing a demonstration of the usage of the package.\n",
    "\n",
    "NOTE: It is required the **requests** library to be able to contact the server and get responses in order to run this notebook."
   ]
  },
  {
   "cell_type": "code",
   "execution_count": 1,
   "id": "71e26649-49cf-41ea-9d27-74fb41767d82",
   "metadata": {},
   "outputs": [
    {
     "name": "stdout",
     "output_type": "stream",
     "text": [
      "Requirement already satisfied: requests in /home/ivan/anaconda3/envs/ivan3.11/lib/python3.11/site-packages (2.31.0)\n",
      "Requirement already satisfied: charset-normalizer<4,>=2 in /home/ivan/anaconda3/envs/ivan3.11/lib/python3.11/site-packages (from requests) (3.3.2)\n",
      "Requirement already satisfied: idna<4,>=2.5 in /home/ivan/anaconda3/envs/ivan3.11/lib/python3.11/site-packages (from requests) (3.6)\n",
      "Requirement already satisfied: urllib3<3,>=1.21.1 in /home/ivan/anaconda3/envs/ivan3.11/lib/python3.11/site-packages (from requests) (2.2.1)\n",
      "Requirement already satisfied: certifi>=2017.4.17 in /home/ivan/anaconda3/envs/ivan3.11/lib/python3.11/site-packages (from requests) (2024.2.2)\n"
     ]
    }
   ],
   "source": [
    "!pip install requests"
   ]
  },
  {
   "cell_type": "code",
   "execution_count": 2,
   "id": "c5a66dec-d37c-46d5-a827-05bd3a443a53",
   "metadata": {},
   "outputs": [],
   "source": [
    "import sys\n",
    "sys.path.insert(0, \"..\")"
   ]
  },
  {
   "cell_type": "markdown",
   "id": "ec1b257d-b2eb-49a7-80f6-cb2183a124ef",
   "metadata": {},
   "source": [
    "## IMPORTING THE PACKAGE\n",
    "The package can be imported as follows"
   ]
  },
  {
   "cell_type": "code",
   "execution_count": 3,
   "id": "ae2f5403-3ece-4de7-b179-cbe21dfbcfbe",
   "metadata": {},
   "outputs": [
    {
     "data": {
      "text/plain": [
       "[Flasked flasked.core.flasked app: Not running; 0 routes defined]"
      ]
     },
     "execution_count": 3,
     "metadata": {},
     "output_type": "execute_result"
    }
   ],
   "source": [
    "from flasked import Flasked\n",
    "\n",
    "flasked = Flasked()\n",
    "flasked"
   ]
  },
  {
   "cell_type": "markdown",
   "id": "c3ace556-8df9-4875-bc7e-b863ce01ae9e",
   "metadata": {},
   "source": [
    "## RUNNING THE SERVER\n",
    "\n",
    "Server can be run in background taking advantage of the interactive environment of Jupyter notebooks or IPython:"
   ]
  },
  {
   "cell_type": "code",
   "execution_count": 4,
   "id": "65f9e50c-8052-4d0a-bd6c-3ec704b7b06c",
   "metadata": {},
   "outputs": [
    {
     "data": {
      "text/plain": [
       "[Flasked flasked.core.flasked app: Running on 127.0.0.1:1024; 0 routes defined]"
      ]
     },
     "execution_count": 4,
     "metadata": {},
     "output_type": "execute_result"
    },
    {
     "name": "stdout",
     "output_type": "stream",
     "text": [
      " * Serving Flask app 'flasked.core.flasked'\n",
      " * Debug mode: off\n"
     ]
    },
    {
     "name": "stderr",
     "output_type": "stream",
     "text": [
      "\u001b[31m\u001b[1mWARNING: This is a development server. Do not use it in a production deployment. Use a production WSGI server instead.\u001b[0m\n",
      " * Running on http://127.0.0.1:1024\n",
      "\u001b[33mPress CTRL+C to quit\u001b[0m\n"
     ]
    }
   ],
   "source": [
    "flasked.run_background(host=\"127.0.0.1\", port=1024)\n",
    "flasked"
   ]
  },
  {
   "cell_type": "markdown",
   "id": "31fc0ebc-deef-4b5f-9a48-e2fd372637fe",
   "metadata": {},
   "source": [
    "Yes, I know there are no routes defined yet. However, the power of `Flasked` is that **routes can be added/modified/removed dynamically!**\n",
    "Furthermore, the server can be stopped by using `flasked.stop()`. This is automatically handled by the framework, so re-creating the object and re-running the server on the same host-port configuration will automatically cancel previous servers:"
   ]
  },
  {
   "cell_type": "code",
   "execution_count": 5,
   "id": "07e1fa13-a1fa-4808-97a9-24bfc40c7920",
   "metadata": {},
   "outputs": [
    {
     "data": {
      "text/plain": [
       "[Flasked flasked.core.flasked app: Running on 127.0.0.1:1024; 0 routes defined]"
      ]
     },
     "execution_count": 5,
     "metadata": {},
     "output_type": "execute_result"
    },
    {
     "name": "stdout",
     "output_type": "stream",
     "text": [
      " * Serving Flask app 'flasked.core.flasked'\n",
      " * Debug mode: off\n"
     ]
    },
    {
     "name": "stderr",
     "output_type": "stream",
     "text": [
      "\u001b[31m\u001b[1mWARNING: This is a development server. Do not use it in a production deployment. Use a production WSGI server instead.\u001b[0m\n",
      " * Running on http://127.0.0.1:1024\n",
      "\u001b[33mPress CTRL+C to quit\u001b[0m\n",
      "127.0.0.1 - - [03/Mar/2024 23:11:40] \"GET / HTTP/1.1\" 200 -\n",
      "127.0.0.1 - - [03/Mar/2024 23:11:40] \"POST / HTTP/1.1\" 200 -\n",
      "127.0.0.1 - - [03/Mar/2024 23:11:40] \"DELETE / HTTP/1.1\" 200 -\n",
      "127.0.0.1 - - [03/Mar/2024 23:11:40] \"\u001b[31m\u001b[1mPUT / HTTP/1.1\u001b[0m\" 405 -\n",
      "127.0.0.1 - - [03/Mar/2024 23:11:40] \"\u001b[33mGET / HTTP/1.1\u001b[0m\" 404 -\n",
      "127.0.0.1 - - [03/Mar/2024 23:11:40] \"POST / HTTP/1.1\" 200 -\n",
      "127.0.0.1 - - [03/Mar/2024 23:11:40] \"DELETE / HTTP/1.1\" 200 -\n",
      "127.0.0.1 - - [03/Mar/2024 23:11:40] \"PUT / HTTP/1.1\" 200 -\n",
      "127.0.0.1 - - [03/Mar/2024 23:11:40] \"\u001b[33mGET / HTTP/1.1\u001b[0m\" 404 -\n",
      "127.0.0.1 - - [03/Mar/2024 23:11:40] \"\u001b[33mPOST / HTTP/1.1\u001b[0m\" 404 -\n",
      "127.0.0.1 - - [03/Mar/2024 23:11:40] \"\u001b[33mDELETE / HTTP/1.1\u001b[0m\" 404 -\n",
      "127.0.0.1 - - [03/Mar/2024 23:11:40] \"\u001b[33mPUT / HTTP/1.1\u001b[0m\" 404 -\n",
      "127.0.0.1 - - [03/Mar/2024 23:11:40] \"GET / HTTP/1.1\" 200 -\n",
      "127.0.0.1 - - [03/Mar/2024 23:11:40] \"GET / HTTP/1.1\" 200 -\n",
      "127.0.0.1 - - [03/Mar/2024 23:11:40] \"POST / HTTP/1.1\" 200 -\n",
      "127.0.0.1 - - [03/Mar/2024 23:11:40] \"GET /advanced/foo/bar HTTP/1.1\" 200 -\n",
      "127.0.0.1 - - [03/Mar/2024 23:11:40] \"GET /advanced/24/1.1/foo HTTP/1.1\" 200 -\n",
      "127.0.0.1 - - [03/Mar/2024 23:11:40] \"\u001b[33mGET /advanced/bar/1.1/foo HTTP/1.1\u001b[0m\" 404 -\n",
      "127.0.0.1 - - [03/Mar/2024 23:11:40] \"GET /advanced/path/bar/1.1/foo/ HTTP/1.1\" 200 -\n",
      "127.0.0.1 - - [03/Mar/2024 23:11:40] \"GET /advanced/path/bar/1.1/foo/path2/foo/bar HTTP/1.1\" 200 -\n",
      "127.0.0.1 - - [03/Mar/2024 23:11:40] \"GET /myparser?parameter=24 HTTP/1.1\" 200 -\n",
      "127.0.0.1 - - [03/Mar/2024 23:11:40] \"POST /myjson HTTP/1.1\" 200 -\n"
     ]
    }
   ],
   "source": [
    "flasked = Flasked()\n",
    "flasked.run_background(host=\"127.0.0.1\", port=1024)\n",
    "flasked"
   ]
  },
  {
   "cell_type": "markdown",
   "id": "ddaa23fc-387a-47de-b63c-783e9bb9b050",
   "metadata": {},
   "source": [
    "## SIMPLE ROUTES\n",
    "\n",
    "In this section, generating a simple route and testing it will be shown, releasing the power of the framework."
   ]
  },
  {
   "cell_type": "markdown",
   "id": "9ea71acd-31a1-457e-85d3-285965dec046",
   "metadata": {},
   "source": [
    "### GENERATING A ROUTE\n",
    "\n",
    "All the routes must be handled by a controller.\n",
    "\n",
    "A controller is any class of Python containing as class methods the HTTP methods that are invoked during an HTTP call. For example, if you have a class that you want to make it a controller, you only need to define the get(), post() or equivalent HTTP method in the class. The `Flasked` framework will automatically instantiate your class on every request and forward the corresponding requests to this method of your class. Example:"
   ]
  },
  {
   "cell_type": "code",
   "execution_count": 6,
   "id": "3d0505cd-b9f7-43c2-85f1-b0de159d4c31",
   "metadata": {},
   "outputs": [],
   "source": [
    "class RootController:\n",
    "    \"\"\"The controller for root requests. It is a basic endpoint for demonstration of the package\"\"\"\n",
    "        \n",
    "    def get(self):\n",
    "        return {\"result\": \"my get result\"}\n",
    "\n",
    "    def post(self):\n",
    "        return {\"result\": \"my post result\"}\n",
    "\n",
    "    def delete(self):\n",
    "        return {\"result\": \"my delete result\"}\n"
   ]
  },
  {
   "cell_type": "markdown",
   "id": "764791f6-8226-483f-a9cf-cc6f28492d73",
   "metadata": {},
   "source": [
    "We can assign this controller to any endpoint(s), but we will use the root \"/\" endpoint for convenience."
   ]
  },
  {
   "cell_type": "code",
   "execution_count": 7,
   "id": "c37b38be-ef99-40b4-8430-cbacb2a64c0e",
   "metadata": {},
   "outputs": [],
   "source": [
    "flasked['/'] = RootController"
   ]
  },
  {
   "cell_type": "markdown",
   "id": "bdf13ece-61fb-4521-b6c5-96d83219867b",
   "metadata": {},
   "source": [
    "Now the `flasked` object handles this endpoint automatically. We can confirm this by showing a summary:"
   ]
  },
  {
   "cell_type": "code",
   "execution_count": 8,
   "id": "a9ceaa91-4e1f-4b50-8020-d39be63bec89",
   "metadata": {},
   "outputs": [
    {
     "name": "stdout",
     "output_type": "stream",
     "text": [
      "[Flasked flasked.core.flasked app: Running on 127.0.0.1:1024; 1 routes defined]\n",
      "\t/ (GET, POST, DELETE) - RootController: The controller for root requests. It is a basic endpoint for demonstration of the package\n"
     ]
    }
   ],
   "source": [
    "flasked.summary"
   ]
  },
  {
   "cell_type": "markdown",
   "id": "3d202e49-eedb-48e0-aa83-b931d7ea7ee9",
   "metadata": {},
   "source": [
    "Note that any arbitrary number of routes can be assigned to the flasked object, each pointing to the corresponding controller class."
   ]
  },
  {
   "cell_type": "markdown",
   "id": "9c84586b-441e-4cc0-bf3e-09d0237f2b1b",
   "metadata": {},
   "source": [
    "### RUNNING THE ROUTE\n",
    "The endpoint we just created is already available and can be used out-of-the-box:"
   ]
  },
  {
   "cell_type": "code",
   "execution_count": 9,
   "id": "d7d91486-519b-438d-9439-e864c29e9934",
   "metadata": {},
   "outputs": [
    {
     "data": {
      "text/plain": [
       "{'result': 'my get result'}"
      ]
     },
     "metadata": {},
     "output_type": "display_data"
    },
    {
     "data": {
      "text/plain": [
       "{'result': 'my post result'}"
      ]
     },
     "metadata": {},
     "output_type": "display_data"
    },
    {
     "data": {
      "text/plain": [
       "{'result': 'my delete result'}"
      ]
     },
     "metadata": {},
     "output_type": "display_data"
    },
    {
     "data": {
      "text/plain": [
       "{'error': 'Method not allowed'}"
      ]
     },
     "metadata": {},
     "output_type": "display_data"
    },
    {
     "name": "stdout",
     "output_type": "stream",
     "text": [
      "CPU times: user 48.1 ms, sys: 4.4 ms, total: 52.5 ms\n",
      "Wall time: 68.6 ms\n"
     ]
    }
   ],
   "source": [
    "%%time\n",
    "import requests\n",
    "display(requests.get(\"http://localhost:1024/\").json())\n",
    "display(requests.post(\"http://localhost:1024/\").json())\n",
    "display(requests.delete(\"http://localhost:1024/\").json())\n",
    "display(requests.put(\"http://localhost:1024/\").json())"
   ]
  },
  {
   "cell_type": "markdown",
   "id": "b78613a6-c543-4743-9db1-d47380b5c757",
   "metadata": {},
   "source": [
    "### MODIFYING ENDPOINTS\n",
    "\n",
    "`Flasked` allows dynamic change of routes without needing to close or restart the server.\n",
    "\n",
    "For example, we can redefine the class and assign it to the same route, replacing the existing one:"
   ]
  },
  {
   "cell_type": "code",
   "execution_count": 10,
   "id": "fd33f7fb-668d-4d58-924d-f0604be14115",
   "metadata": {},
   "outputs": [],
   "source": [
    "class RootController:\n",
    "    \"\"\"The controller for root requests. It is a basic endpoint for demonstration of the package\"\"\"\n",
    "        \n",
    "    def get(self):\n",
    "        return {\"result\": \"my get result, but returning a not found status code\"}, 404\n",
    "\n",
    "    def post(self):\n",
    "        return {\"result\": \"my post result\"}\n",
    "\n",
    "    def delete(self):\n",
    "        return {\"result\": \"my delete result\"}\n",
    "\n",
    "    def put(self):\n",
    "        return {\"result\": \"Now I have a put method handler\"}"
   ]
  },
  {
   "cell_type": "code",
   "execution_count": 11,
   "id": "588da3ad-5043-4305-9e28-24d3c52c5b2f",
   "metadata": {},
   "outputs": [
    {
     "name": "stdout",
     "output_type": "stream",
     "text": [
      "[Flasked flasked.core.flasked app: Running on 127.0.0.1:1024; 1 routes defined]\n",
      "\t/ (GET, POST, PUT, DELETE) - RootController: The controller for root requests. It is a basic endpoint for demonstration of the package\n"
     ]
    }
   ],
   "source": [
    "flasked['/'] = RootController\n",
    "\n",
    "flasked.summary"
   ]
  },
  {
   "cell_type": "code",
   "execution_count": 12,
   "id": "05867973-3e02-46e6-b13a-7d1d8f6365bc",
   "metadata": {},
   "outputs": [
    {
     "data": {
      "text/plain": [
       "{'result': 'my get result, but returning a not found status code'}"
      ]
     },
     "metadata": {},
     "output_type": "display_data"
    },
    {
     "data": {
      "text/plain": [
       "{'result': 'my post result'}"
      ]
     },
     "metadata": {},
     "output_type": "display_data"
    },
    {
     "data": {
      "text/plain": [
       "{'result': 'my delete result'}"
      ]
     },
     "metadata": {},
     "output_type": "display_data"
    },
    {
     "data": {
      "text/plain": [
       "{'result': 'Now I have a put method handler'}"
      ]
     },
     "metadata": {},
     "output_type": "display_data"
    },
    {
     "name": "stdout",
     "output_type": "stream",
     "text": [
      "CPU times: user 13.2 ms, sys: 7.67 ms, total: 20.9 ms\n",
      "Wall time: 18.7 ms\n"
     ]
    }
   ],
   "source": [
    "%%time\n",
    "import requests\n",
    "display(requests.get(\"http://localhost:1024/\").json())\n",
    "display(requests.post(\"http://localhost:1024/\").json())\n",
    "display(requests.delete(\"http://localhost:1024/\").json())\n",
    "display(requests.put(\"http://localhost:1024/\").json())"
   ]
  },
  {
   "cell_type": "markdown",
   "id": "f2b7e8d9-9676-4206-afdc-abacd718676f",
   "metadata": {},
   "source": [
    "### REMOVING THE ROUTE\n",
    "It is also possible to remove the route"
   ]
  },
  {
   "cell_type": "code",
   "execution_count": 13,
   "id": "cbf9c8c6-f0b5-434b-9f54-2abbf4fc6f5e",
   "metadata": {},
   "outputs": [
    {
     "name": "stdout",
     "output_type": "stream",
     "text": [
      "[Flasked flasked.core.flasked app: Running on 127.0.0.1:1024; 0 routes defined]\n",
      "\t\n"
     ]
    }
   ],
   "source": [
    "del flasked['/']\n",
    "flasked.summary"
   ]
  },
  {
   "cell_type": "code",
   "execution_count": 14,
   "id": "33e5353c-1977-410e-8840-773557a223aa",
   "metadata": {},
   "outputs": [
    {
     "data": {
      "text/plain": [
       "{'error': 'Resource not found'}"
      ]
     },
     "metadata": {},
     "output_type": "display_data"
    },
    {
     "data": {
      "text/plain": [
       "{'error': 'Resource not found'}"
      ]
     },
     "metadata": {},
     "output_type": "display_data"
    },
    {
     "data": {
      "text/plain": [
       "{'error': 'Resource not found'}"
      ]
     },
     "metadata": {},
     "output_type": "display_data"
    },
    {
     "data": {
      "text/plain": [
       "{'error': 'Resource not found'}"
      ]
     },
     "metadata": {},
     "output_type": "display_data"
    },
    {
     "name": "stdout",
     "output_type": "stream",
     "text": [
      "CPU times: user 14.4 ms, sys: 4.81 ms, total: 19.2 ms\n",
      "Wall time: 17.1 ms\n"
     ]
    }
   ],
   "source": [
    "%%time\n",
    "import requests\n",
    "display(requests.get(\"http://localhost:1024/\").json())\n",
    "display(requests.post(\"http://localhost:1024/\").json())\n",
    "display(requests.delete(\"http://localhost:1024/\").json())\n",
    "display(requests.put(\"http://localhost:1024/\").json())"
   ]
  },
  {
   "cell_type": "markdown",
   "id": "6258e459-9fb0-4380-9e49-2d0fb795b487",
   "metadata": {},
   "source": [
    "### STATEFUL ROUTES\n",
    "\n",
    "Sometimes, it is desired to keep a shared state between controller instances. For example, a database manager might be desired to be kept and accessable between instances of the same controller. This can be achieved with a singleton pattern or, alternatively, with dependency injection, which is the preferred way since it is allowed by `Flasked`."
   ]
  },
  {
   "cell_type": "code",
   "execution_count": 15,
   "id": "77e2b0cd-e9a6-46e7-a8df-77dcd7e6cc57",
   "metadata": {},
   "outputs": [],
   "source": [
    "class RootController:\n",
    "    \"\"\"The controller for root requests. It is a basic endpoint for demonstration of the package\"\"\"\n",
    "    def __init__(self, stack_get, stack_post):\n",
    "        self._stack_get = stack_get\n",
    "        self._stack_post = stack_post\n",
    "        \n",
    "    def get(self):\n",
    "        self._stack_get.append(1)\n",
    "        return {\"result\": \"my get result\"}\n",
    "        \n",
    "    def post(self):\n",
    "        self._stack_post.append(1)\n",
    "        return {\"result\": \"my post result\"}"
   ]
  },
  {
   "cell_type": "code",
   "execution_count": 16,
   "id": "34881740-99b0-49b3-ba61-de431623c471",
   "metadata": {},
   "outputs": [],
   "source": [
    "# Here it is shown how to keep a shared state by using two lists as example\n",
    "my_get_stack = []\n",
    "my_post_stack = []\n",
    "\n",
    "flasked['/'] = RootController, {'stack_get': my_get_stack, 'stack_post': my_post_stack}"
   ]
  },
  {
   "cell_type": "code",
   "execution_count": 17,
   "id": "662eec3e-20ba-4382-9f83-c8879cd732ba",
   "metadata": {},
   "outputs": [
    {
     "data": {
      "text/plain": [
       "{'result': 'my get result'}"
      ]
     },
     "metadata": {},
     "output_type": "display_data"
    },
    {
     "data": {
      "text/plain": [
       "{'result': 'my get result'}"
      ]
     },
     "metadata": {},
     "output_type": "display_data"
    },
    {
     "data": {
      "text/plain": [
       "{'result': 'my post result'}"
      ]
     },
     "metadata": {},
     "output_type": "display_data"
    }
   ],
   "source": [
    "# Now we can perform the queries and state will be kept between requests:\n",
    "display(requests.get(\"http://localhost:1024/\").json())\n",
    "display(requests.get(\"http://localhost:1024/\").json())\n",
    "display(requests.post(\"http://localhost:1024/\").json())"
   ]
  },
  {
   "cell_type": "code",
   "execution_count": 18,
   "id": "fc34ca70-7204-4841-adb3-5a57e2afb581",
   "metadata": {},
   "outputs": [
    {
     "data": {
      "text/plain": [
       "[1, 1]"
      ]
     },
     "metadata": {},
     "output_type": "display_data"
    },
    {
     "data": {
      "text/plain": [
       "[1]"
      ]
     },
     "metadata": {},
     "output_type": "display_data"
    }
   ],
   "source": [
    "display(my_get_stack)\n",
    "display(my_post_stack)"
   ]
  },
  {
   "cell_type": "markdown",
   "id": "4c4410fa-fd2a-4431-8f8c-7bb159bd1cea",
   "metadata": {},
   "source": [
    "**Note: sharing state between instances face the issue of synchronizing data, since every request is potentially handled by different threads. Keep in mind that synchronization mechanisms might be desired. This example don't work when exposing in different WSGI scalable backends, which requires an external synchronization layer.**"
   ]
  },
  {
   "cell_type": "markdown",
   "id": "b8265e7a-0313-4fb1-8768-b7826fabff6e",
   "metadata": {},
   "source": [
    "## ADVANCE ROUTES\n",
    "\n",
    "With `Flasked` it is also possible to handle special routes, like routes with variables in the path. This can be done in a similar manner as done with `Flask`, by using certain patterns in the endpoint definition (like \\<variable>)."
   ]
  },
  {
   "cell_type": "markdown",
   "id": "fdea4c8f-5ee1-42b4-b839-863afa82701c",
   "metadata": {},
   "source": [
    "### UNTYPED VARIABLES\n",
    "By default, variables not typped are treated as strings."
   ]
  },
  {
   "cell_type": "code",
   "execution_count": 19,
   "id": "66897d52-d73a-468d-88b8-1da97bfeeb8d",
   "metadata": {},
   "outputs": [],
   "source": [
    "class AdvancedController:\n",
    "    description = \"The controller for advanced requests. It is an endpoint with variables in the path\"\n",
    "    \n",
    "    def get(self, variable1, variable2):\n",
    "        return {\"result\": \"my get result\", \"variable1\": variable1, \"variable2\": variable2}\n",
    "\n",
    "\n",
    "flasked['/advanced/<variable1>/<variable2>'] = AdvancedController"
   ]
  },
  {
   "cell_type": "markdown",
   "id": "b77a1ed3-101f-4671-9ec0-f810b17f2ec3",
   "metadata": {},
   "source": [
    "**Note: Ensure that the name of the variables in the endpoint definition match the name of the variables in the class method parameter**"
   ]
  },
  {
   "cell_type": "code",
   "execution_count": 20,
   "id": "1d430a10-3960-4b29-9e9b-2d518e4c3907",
   "metadata": {},
   "outputs": [
    {
     "name": "stdout",
     "output_type": "stream",
     "text": [
      "[Flasked flasked.core.flasked app: Running on 127.0.0.1:1024; 2 routes defined]\n",
      "\t/advanced/<variable1>/<variable2> (GET) - AdvancedController: The controller for advanced requests. It is an endpoint with variables in the path\n",
      "\t/ (GET, POST) - RootController: The controller for root requests. It is a basic endpoint for demonstration of the package\n"
     ]
    }
   ],
   "source": [
    "flasked.summary"
   ]
  },
  {
   "cell_type": "code",
   "execution_count": 21,
   "id": "a3e0034f-f600-4993-9930-5fb32a1c83e6",
   "metadata": {},
   "outputs": [
    {
     "data": {
      "text/plain": [
       "{'result': 'my get result', 'variable1': 'foo', 'variable2': 'bar'}"
      ]
     },
     "execution_count": 21,
     "metadata": {},
     "output_type": "execute_result"
    }
   ],
   "source": [
    "requests.get(\"http://localhost:1024/advanced/foo/bar\").json()"
   ]
  },
  {
   "cell_type": "markdown",
   "id": "3de62ab8-45d8-48ae-8fda-334079a74f6f",
   "metadata": {},
   "source": [
    "### TYPED VARIABLES\n",
    "\n",
    "Variables can be typped. Allowed types are `int`, `float` and `string`:"
   ]
  },
  {
   "cell_type": "code",
   "execution_count": 22,
   "id": "9bf53c23-d0a8-4570-8154-ba61c556623f",
   "metadata": {},
   "outputs": [],
   "source": [
    "class AdvancedControllerTyped:\n",
    "    description = \"The controller for advanced requests. It is an endpoint with variables in the path\"\n",
    "    \n",
    "    def get(self, variable1, variable2, variable3):\n",
    "        return {\"result\": \"my get result\", \"variable1\": variable1, \"variable2\": variable2, \"variable3\": variable3}\n",
    "\n",
    "\n",
    "flasked['/advanced/<int:variable1>/<float:variable2>/<string:variable3>'] = AdvancedControllerTyped"
   ]
  },
  {
   "cell_type": "code",
   "execution_count": 23,
   "id": "218e17b7-b3e9-45e0-8754-23c21db25922",
   "metadata": {},
   "outputs": [
    {
     "name": "stdout",
     "output_type": "stream",
     "text": [
      "[Flasked flasked.core.flasked app: Running on 127.0.0.1:1024; 3 routes defined]\n",
      "\t/advanced/<int:variable1>/<float:variable2>/<string:variable3> (GET) - AdvancedControllerTyped: The controller for advanced requests. It is an endpoint with variables in the path\n",
      "\t/advanced/<variable1>/<variable2> (GET) - AdvancedController: The controller for advanced requests. It is an endpoint with variables in the path\n",
      "\t/ (GET, POST) - RootController: The controller for root requests. It is a basic endpoint for demonstration of the package\n"
     ]
    }
   ],
   "source": [
    "flasked.summary"
   ]
  },
  {
   "cell_type": "code",
   "execution_count": 24,
   "id": "11d60c55-8659-48a7-9102-6ec3b5383f82",
   "metadata": {},
   "outputs": [
    {
     "data": {
      "text/plain": [
       "{'result': 'my get result',\n",
       " 'variable1': 24,\n",
       " 'variable2': 1.1,\n",
       " 'variable3': 'foo'}"
      ]
     },
     "execution_count": 24,
     "metadata": {},
     "output_type": "execute_result"
    }
   ],
   "source": [
    "requests.get(\"http://localhost:1024/advanced/24/1.1/foo\").json()"
   ]
  },
  {
   "cell_type": "markdown",
   "id": "5ef2b062-e1c0-49e8-afc9-f62d280625c2",
   "metadata": {},
   "source": [
    "If a variable type is not correctly detected (for example, passing a string to a float or int variable), it will not be recognized:"
   ]
  },
  {
   "cell_type": "code",
   "execution_count": 25,
   "id": "caf0dd8e-856a-4b1b-8f4b-5a531f56f7f7",
   "metadata": {},
   "outputs": [
    {
     "data": {
      "text/plain": [
       "{'error': 'Resource not found'}"
      ]
     },
     "execution_count": 25,
     "metadata": {},
     "output_type": "execute_result"
    }
   ],
   "source": [
    "requests.get(\"http://localhost:1024/advanced/bar/1.1/foo\").json()"
   ]
  },
  {
   "cell_type": "markdown",
   "id": "88e4514b-8647-4206-aa8e-a776efef729a",
   "metadata": {},
   "source": [
    "### PATH VARIABLES\n",
    "\n",
    "Path variables can be used to fetch dynamic paths in the endpoints, in a similar manner as Flask allows:"
   ]
  },
  {
   "cell_type": "code",
   "execution_count": 26,
   "id": "2e39df57-5414-4e1c-ae31-b7d848a96382",
   "metadata": {},
   "outputs": [],
   "source": [
    "class AdvancedControllerPath:\n",
    "    description = \"The controller for requests with path variables\"\n",
    "    \n",
    "    def get(self, path_variable):\n",
    "        return {\"result\": \"my get result\", \"path_variable\": path_variable}\n",
    "\n",
    "\n",
    "flasked['/advanced/path/<path:path_variable>/'] = AdvancedControllerPath"
   ]
  },
  {
   "cell_type": "code",
   "execution_count": 27,
   "id": "ce212a3a-08cb-4fea-a560-4be0656166b8",
   "metadata": {},
   "outputs": [
    {
     "name": "stdout",
     "output_type": "stream",
     "text": [
      "[Flasked flasked.core.flasked app: Running on 127.0.0.1:1024; 4 routes defined]\n",
      "\t/advanced/<int:variable1>/<float:variable2>/<string:variable3> (GET) - AdvancedControllerTyped: The controller for advanced requests. It is an endpoint with variables in the path\n",
      "\t/advanced/path/<path:path_variable>/ (GET) - AdvancedControllerPath: The controller for requests with path variables\n",
      "\t/advanced/<variable1>/<variable2> (GET) - AdvancedController: The controller for advanced requests. It is an endpoint with variables in the path\n",
      "\t/ (GET, POST) - RootController: The controller for root requests. It is a basic endpoint for demonstration of the package\n"
     ]
    }
   ],
   "source": [
    "flasked.summary"
   ]
  },
  {
   "cell_type": "code",
   "execution_count": 28,
   "id": "5e84cf62-08bd-4a5a-9be1-902d60d8e19b",
   "metadata": {},
   "outputs": [
    {
     "data": {
      "text/plain": [
       "{'path_variable': 'bar/1.1/foo', 'result': 'my get result'}"
      ]
     },
     "execution_count": 28,
     "metadata": {},
     "output_type": "execute_result"
    }
   ],
   "source": [
    "requests.get(\"http://localhost:1024/advanced/path/bar/1.1/foo/\").json()"
   ]
  },
  {
   "cell_type": "markdown",
   "id": "c6896b64-362d-4043-bfd8-4ee6eba5b941",
   "metadata": {},
   "source": [
    "It can also work with many path variables or mixing variables:"
   ]
  },
  {
   "cell_type": "code",
   "execution_count": 29,
   "id": "fef8f53b-b12b-4ca1-a28a-c78380bd2fb5",
   "metadata": {},
   "outputs": [],
   "source": [
    "class AdvancedControllerPathComplex:\n",
    "    description = \"The controller for requests with path variables\"\n",
    "    \n",
    "    def get(self, path_variable1, path_variable2):\n",
    "        return {\"result\": \"my get result\", \"path_variable1\": path_variable1, \"path_variable2\": path_variable2}\n",
    "\n",
    "\n",
    "flasked['/advanced/path/<path:path_variable1>/path2/<path:path_variable2>'] = AdvancedControllerPathComplex"
   ]
  },
  {
   "cell_type": "code",
   "execution_count": 30,
   "id": "bc1da3a4-0513-4c5a-a5c9-5f88401ed8f9",
   "metadata": {},
   "outputs": [
    {
     "name": "stdout",
     "output_type": "stream",
     "text": [
      "[Flasked flasked.core.flasked app: Running on 127.0.0.1:1024; 5 routes defined]\n",
      "\t/advanced/path/<path:path_variable1>/path2/<path:path_variable2> (GET) - AdvancedControllerPathComplex: The controller for requests with path variables\n",
      "\t/advanced/<int:variable1>/<float:variable2>/<string:variable3> (GET) - AdvancedControllerTyped: The controller for advanced requests. It is an endpoint with variables in the path\n",
      "\t/advanced/path/<path:path_variable>/ (GET) - AdvancedControllerPath: The controller for requests with path variables\n",
      "\t/advanced/<variable1>/<variable2> (GET) - AdvancedController: The controller for advanced requests. It is an endpoint with variables in the path\n",
      "\t/ (GET, POST) - RootController: The controller for root requests. It is a basic endpoint for demonstration of the package\n"
     ]
    }
   ],
   "source": [
    "flasked.summary"
   ]
  },
  {
   "cell_type": "code",
   "execution_count": 31,
   "id": "34bdee30-4e25-4aec-b4bf-2f374d2e50a7",
   "metadata": {},
   "outputs": [
    {
     "data": {
      "text/plain": [
       "{'path_variable1': 'bar/1.1/foo',\n",
       " 'path_variable2': 'foo/bar',\n",
       " 'result': 'my get result'}"
      ]
     },
     "execution_count": 31,
     "metadata": {},
     "output_type": "execute_result"
    }
   ],
   "source": [
    "requests.get(\"http://localhost:1024/advanced/path/bar/1.1/foo/path2/foo/bar\").json()"
   ]
  },
  {
   "cell_type": "markdown",
   "id": "cd3df92a-f1ef-49de-9810-7f53a1ecff57",
   "metadata": {},
   "source": [
    "### PARSING URL PARAMETERS\n",
    "\n",
    "Routes can have parameters. They can be accessed in the same way done with Flask. Remember this framework is flask-based:"
   ]
  },
  {
   "cell_type": "code",
   "execution_count": 32,
   "id": "c3add371-41a3-4c37-8872-eacf5cc2ac1d",
   "metadata": {},
   "outputs": [],
   "source": [
    "from flask import request\n",
    "\n",
    "\n",
    "class ArgumentsParserController:\n",
    "    def get(self):\n",
    "        parameter_value = request.args.get('parameter')\n",
    "        return {\"parameter\": parameter_value}\n",
    "\n",
    "flasked[\"/myparser\"] = ArgumentsParserController"
   ]
  },
  {
   "cell_type": "code",
   "execution_count": 33,
   "id": "b7fc03ed-ae00-4b59-aabd-ba5402319fd3",
   "metadata": {},
   "outputs": [
    {
     "name": "stdout",
     "output_type": "stream",
     "text": [
      "[Flasked flasked.core.flasked app: Running on 127.0.0.1:1024; 6 routes defined]\n",
      "\t/advanced/path/<path:path_variable1>/path2/<path:path_variable2> (GET) - AdvancedControllerPathComplex: The controller for requests with path variables\n",
      "\t/advanced/<int:variable1>/<float:variable2>/<string:variable3> (GET) - AdvancedControllerTyped: The controller for advanced requests. It is an endpoint with variables in the path\n",
      "\t/advanced/path/<path:path_variable>/ (GET) - AdvancedControllerPath: The controller for requests with path variables\n",
      "\t/advanced/<variable1>/<variable2> (GET) - AdvancedController: The controller for advanced requests. It is an endpoint with variables in the path\n",
      "\t/myparser (GET) - ArgumentsParserController: None\n",
      "\t/ (GET, POST) - RootController: The controller for root requests. It is a basic endpoint for demonstration of the package\n"
     ]
    }
   ],
   "source": [
    "flasked.summary"
   ]
  },
  {
   "cell_type": "code",
   "execution_count": 34,
   "id": "17a44ee3-1739-4390-bf03-4d9b75b3e0b3",
   "metadata": {},
   "outputs": [
    {
     "data": {
      "text/plain": [
       "{'parameter': '24'}"
      ]
     },
     "execution_count": 34,
     "metadata": {},
     "output_type": "execute_result"
    }
   ],
   "source": [
    "requests.get(\"http://localhost:1024/myparser?parameter=24\").json()"
   ]
  },
  {
   "cell_type": "markdown",
   "id": "8522c0b7-be5a-442f-a647-9989af030d9e",
   "metadata": {},
   "source": [
    "### PARSING JSON REQUESTS\n",
    "\n",
    "In the same way as usually done with Flask:"
   ]
  },
  {
   "cell_type": "code",
   "execution_count": 35,
   "id": "81ca1df0-d71c-434f-b5ca-f736847a3348",
   "metadata": {},
   "outputs": [],
   "source": [
    "from flask import request\n",
    "\n",
    "\n",
    "class JSONParserController:\n",
    "    \n",
    "    def post(self):\n",
    "        json_content = request.get_json()\n",
    "        return {\"json\": json_content}\n",
    "\n",
    "flasked[\"/myjson\"] = JSONParserController"
   ]
  },
  {
   "cell_type": "code",
   "execution_count": 36,
   "id": "76f36ffc-6604-4e08-8de9-88ec75f969de",
   "metadata": {},
   "outputs": [
    {
     "name": "stdout",
     "output_type": "stream",
     "text": [
      "[Flasked flasked.core.flasked app: Running on 127.0.0.1:1024; 7 routes defined]\n",
      "\t/advanced/path/<path:path_variable1>/path2/<path:path_variable2> (GET) - AdvancedControllerPathComplex: The controller for requests with path variables\n",
      "\t/advanced/<int:variable1>/<float:variable2>/<string:variable3> (GET) - AdvancedControllerTyped: The controller for advanced requests. It is an endpoint with variables in the path\n",
      "\t/advanced/path/<path:path_variable>/ (GET) - AdvancedControllerPath: The controller for requests with path variables\n",
      "\t/advanced/<variable1>/<variable2> (GET) - AdvancedController: The controller for advanced requests. It is an endpoint with variables in the path\n",
      "\t/myparser (GET) - ArgumentsParserController: None\n",
      "\t/myjson (POST) - JSONParserController: None\n",
      "\t/ (GET, POST) - RootController: The controller for root requests. It is a basic endpoint for demonstration of the package\n"
     ]
    }
   ],
   "source": [
    "flasked.summary"
   ]
  },
  {
   "cell_type": "code",
   "execution_count": 37,
   "id": "5cefeaec-f225-4717-b3c8-f52294f81074",
   "metadata": {},
   "outputs": [
    {
     "data": {
      "text/plain": [
       "{'json': {'foo': 'bar'}}"
      ]
     },
     "execution_count": 37,
     "metadata": {},
     "output_type": "execute_result"
    }
   ],
   "source": [
    "import json\n",
    "\n",
    "requests.post(\"http://localhost:1024/myjson\", \n",
    "              data=json.dumps({\"foo\": \"bar\"}), \n",
    "              headers={'content-type': 'application/json'}).json()"
   ]
  },
  {
   "cell_type": "code",
   "execution_count": null,
   "id": "708b16ea-0329-49df-be66-c23a06844e6d",
   "metadata": {},
   "outputs": [],
   "source": []
  }
 ],
 "metadata": {
  "kernelspec": {
   "display_name": "Python 3 (ipykernel)",
   "language": "python",
   "name": "python3"
  },
  "language_info": {
   "codemirror_mode": {
    "name": "ipython",
    "version": 3
   },
   "file_extension": ".py",
   "mimetype": "text/x-python",
   "name": "python",
   "nbconvert_exporter": "python",
   "pygments_lexer": "ipython3",
   "version": "3.11.7"
  }
 },
 "nbformat": 4,
 "nbformat_minor": 5
}
